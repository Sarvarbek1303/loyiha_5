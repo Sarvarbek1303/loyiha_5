{
 "cells": [
  {
   "cell_type": "markdown",
   "metadata": {},
   "source": [
    "K-nearest Neighbor classifier"
   ]
  },
  {
   "cell_type": "code",
   "execution_count": null,
   "metadata": {},
   "outputs": [],
   "source": [
    "#importing necessary libraries\n",
    "\n",
    "import pandas as pd\n",
    "import numpy as np\n",
    "import seaborn as sns\n",
    "import matplotlib.pyplot as plt\n",
    "from sklearn.linear_model import LogisticRegression\n",
    "from sklearn.neighbors import KNeighborsClassifier\n",
    "from sklearn.preprocessing import StandardScaler, LabelEncoder\n",
    "from sklearn.model_selection import train_test_split,cross_val_score\n",
    "from sklearn.metrics import accuracy_score,confusion_matrix,classification_report\n",
    "from sklearn.metrics import mean_absolute_error,r2_score"
   ]
  },
  {
   "cell_type": "code",
   "execution_count": null,
   "metadata": {},
   "outputs": [],
   "source": [
    "#The dataset is loaded\n",
    "\n",
    "df=pd.read_csv('korea_subreddit_comments.csv')"
   ]
  },
  {
   "cell_type": "code",
   "execution_count": null,
   "metadata": {},
   "outputs": [
    {
     "data": {
      "text/html": [
       "<div>\n",
       "<style scoped>\n",
       "    .dataframe tbody tr th:only-of-type {\n",
       "        vertical-align: middle;\n",
       "    }\n",
       "\n",
       "    .dataframe tbody tr th {\n",
       "        vertical-align: top;\n",
       "    }\n",
       "\n",
       "    .dataframe thead th {\n",
       "        text-align: right;\n",
       "    }\n",
       "</style>\n",
       "<table border=\"1\" class=\"dataframe\">\n",
       "  <thead>\n",
       "    <tr style=\"text-align: right;\">\n",
       "      <th></th>\n",
       "      <th>comment_id</th>\n",
       "      <th>thread_id</th>\n",
       "      <th>parent_id</th>\n",
       "      <th>author</th>\n",
       "      <th>body</th>\n",
       "      <th>distinguished</th>\n",
       "      <th>is_submitter</th>\n",
       "      <th>score</th>\n",
       "      <th>stickied</th>\n",
       "      <th>created_utc</th>\n",
       "      <th>edited</th>\n",
       "    </tr>\n",
       "  </thead>\n",
       "  <tbody>\n",
       "    <tr>\n",
       "      <th>0</th>\n",
       "      <td>ea890251-f4ae-555a-985e-5c5692cfb707</td>\n",
       "      <td>c091715a-9c0b-5145-b0f3-2cf17475ad87</td>\n",
       "      <td>c091715a-9c0b-5145-b0f3-2cf17475ad87</td>\n",
       "      <td>6d8224c6-85a4-5546-93f8-9d6d1644b78d</td>\n",
       "      <td>Evil looking mf</td>\n",
       "      <td>NaN</td>\n",
       "      <td>False</td>\n",
       "      <td>1</td>\n",
       "      <td>False</td>\n",
       "      <td>2024-12-09 23:34:02</td>\n",
       "      <td>1970-01-01 00:00:00</td>\n",
       "    </tr>\n",
       "    <tr>\n",
       "      <th>1</th>\n",
       "      <td>9fa939b9-1678-5801-9fdd-1c2d1d3aac7e</td>\n",
       "      <td>f08c477a-b97c-55d8-85ba-7751f6299f54</td>\n",
       "      <td>9e6603c8-42e7-54c1-a226-f6eca6b20de8</td>\n",
       "      <td>8609ec8b-8a27-57e8-932d-4cbe575d8957</td>\n",
       "      <td>End up at Tokyo Disney like Kim Jong-nam</td>\n",
       "      <td>NaN</td>\n",
       "      <td>False</td>\n",
       "      <td>1</td>\n",
       "      <td>False</td>\n",
       "      <td>2024-12-09 23:30:42</td>\n",
       "      <td>1970-01-01 00:00:00</td>\n",
       "    </tr>\n",
       "    <tr>\n",
       "      <th>2</th>\n",
       "      <td>f5496c8d-ba50-5465-8239-7867c8fe3acb</td>\n",
       "      <td>3fc405a9-1ba1-5de5-90cb-497d02c74e49</td>\n",
       "      <td>9bea9a0f-6952-5b20-b3a6-c1db25e9b15c</td>\n",
       "      <td>9ef2092c-fd54-546e-8c2a-ba302b3b6fc5</td>\n",
       "      <td>Spot on. The Danish and Swedish embassies in K...</td>\n",
       "      <td>NaN</td>\n",
       "      <td>False</td>\n",
       "      <td>1</td>\n",
       "      <td>False</td>\n",
       "      <td>2024-12-09 23:28:32</td>\n",
       "      <td>1970-01-01 00:00:00</td>\n",
       "    </tr>\n",
       "    <tr>\n",
       "      <th>3</th>\n",
       "      <td>e5d6e647-b4e5-54c5-8170-3e809679c1c9</td>\n",
       "      <td>f08c477a-b97c-55d8-85ba-7751f6299f54</td>\n",
       "      <td>f08c477a-b97c-55d8-85ba-7751f6299f54</td>\n",
       "      <td>6f6228f4-f281-5f1b-a1f6-5e6c6dc7cb66</td>\n",
       "      <td>Banned from leaving??? Not sure if that's nece...</td>\n",
       "      <td>NaN</td>\n",
       "      <td>False</td>\n",
       "      <td>1</td>\n",
       "      <td>False</td>\n",
       "      <td>2024-12-09 23:25:35</td>\n",
       "      <td>1970-01-01 00:00:00</td>\n",
       "    </tr>\n",
       "    <tr>\n",
       "      <th>4</th>\n",
       "      <td>6c7aff95-20c7-5d3e-afca-de63e991b374</td>\n",
       "      <td>3fc405a9-1ba1-5de5-90cb-497d02c74e49</td>\n",
       "      <td>02bec291-d008-52e4-848b-223615b56527</td>\n",
       "      <td>9ef2092c-fd54-546e-8c2a-ba302b3b6fc5</td>\n",
       "      <td>Yes, the US embassy in Sweden and Germany look...</td>\n",
       "      <td>NaN</td>\n",
       "      <td>False</td>\n",
       "      <td>1</td>\n",
       "      <td>False</td>\n",
       "      <td>2024-12-09 23:24:34</td>\n",
       "      <td>1970-01-01 00:00:00</td>\n",
       "    </tr>\n",
       "  </tbody>\n",
       "</table>\n",
       "</div>"
      ],
      "text/plain": [
       "                             comment_id                             thread_id  \\\n",
       "0  ea890251-f4ae-555a-985e-5c5692cfb707  c091715a-9c0b-5145-b0f3-2cf17475ad87   \n",
       "1  9fa939b9-1678-5801-9fdd-1c2d1d3aac7e  f08c477a-b97c-55d8-85ba-7751f6299f54   \n",
       "2  f5496c8d-ba50-5465-8239-7867c8fe3acb  3fc405a9-1ba1-5de5-90cb-497d02c74e49   \n",
       "3  e5d6e647-b4e5-54c5-8170-3e809679c1c9  f08c477a-b97c-55d8-85ba-7751f6299f54   \n",
       "4  6c7aff95-20c7-5d3e-afca-de63e991b374  3fc405a9-1ba1-5de5-90cb-497d02c74e49   \n",
       "\n",
       "                              parent_id                                author  \\\n",
       "0  c091715a-9c0b-5145-b0f3-2cf17475ad87  6d8224c6-85a4-5546-93f8-9d6d1644b78d   \n",
       "1  9e6603c8-42e7-54c1-a226-f6eca6b20de8  8609ec8b-8a27-57e8-932d-4cbe575d8957   \n",
       "2  9bea9a0f-6952-5b20-b3a6-c1db25e9b15c  9ef2092c-fd54-546e-8c2a-ba302b3b6fc5   \n",
       "3  f08c477a-b97c-55d8-85ba-7751f6299f54  6f6228f4-f281-5f1b-a1f6-5e6c6dc7cb66   \n",
       "4  02bec291-d008-52e4-848b-223615b56527  9ef2092c-fd54-546e-8c2a-ba302b3b6fc5   \n",
       "\n",
       "                                                body distinguished  \\\n",
       "0                                    Evil looking mf           NaN   \n",
       "1           End up at Tokyo Disney like Kim Jong-nam           NaN   \n",
       "2  Spot on. The Danish and Swedish embassies in K...           NaN   \n",
       "3  Banned from leaving??? Not sure if that's nece...           NaN   \n",
       "4  Yes, the US embassy in Sweden and Germany look...           NaN   \n",
       "\n",
       "   is_submitter  score  stickied          created_utc               edited  \n",
       "0         False      1     False  2024-12-09 23:34:02  1970-01-01 00:00:00  \n",
       "1         False      1     False  2024-12-09 23:30:42  1970-01-01 00:00:00  \n",
       "2         False      1     False  2024-12-09 23:28:32  1970-01-01 00:00:00  \n",
       "3         False      1     False  2024-12-09 23:25:35  1970-01-01 00:00:00  \n",
       "4         False      1     False  2024-12-09 23:24:34  1970-01-01 00:00:00  "
      ]
     },
     "execution_count": 3,
     "metadata": {},
     "output_type": "execute_result"
    }
   ],
   "source": [
    "#display the first five rows of the dataset\n",
    "\n",
    "df.head()"
   ]
  },
  {
   "cell_type": "code",
   "execution_count": null,
   "metadata": {},
   "outputs": [
    {
     "name": "stdout",
     "output_type": "stream",
     "text": [
      "<class 'pandas.core.frame.DataFrame'>\n",
      "RangeIndex: 23713 entries, 0 to 23712\n",
      "Data columns (total 11 columns):\n",
      " #   Column         Non-Null Count  Dtype \n",
      "---  ------         --------------  ----- \n",
      " 0   comment_id     23713 non-null  object\n",
      " 1   thread_id      23713 non-null  object\n",
      " 2   parent_id      23713 non-null  object\n",
      " 3   author         23713 non-null  object\n",
      " 4   body           23713 non-null  object\n",
      " 5   distinguished  64 non-null     object\n",
      " 6   is_submitter   23713 non-null  bool  \n",
      " 7   score          23713 non-null  int64 \n",
      " 8   stickied       23713 non-null  bool  \n",
      " 9   created_utc    23713 non-null  object\n",
      " 10  edited         23713 non-null  object\n",
      "dtypes: bool(2), int64(1), object(8)\n",
      "memory usage: 1.7+ MB\n"
     ]
    }
   ],
   "source": [
    "#display a summary of the DataFrame\n",
    "\n",
    "df.info()"
   ]
  },
  {
   "cell_type": "code",
   "execution_count": null,
   "metadata": {},
   "outputs": [
    {
     "data": {
      "text/plain": [
       "distinguished\n",
       "moderator    64\n",
       "Name: count, dtype: int64"
      ]
     },
     "execution_count": 5,
     "metadata": {},
     "output_type": "execute_result"
    }
   ],
   "source": [
    "#count the unique values\n",
    "\n",
    "df['distinguished'].value_counts()"
   ]
  },
  {
   "cell_type": "code",
   "execution_count": null,
   "metadata": {},
   "outputs": [],
   "source": [
    "#remove the column from the DataFrame\n",
    "\n",
    "df = df.drop('distinguished', axis=1)"
   ]
  },
  {
   "cell_type": "code",
   "execution_count": null,
   "metadata": {},
   "outputs": [
    {
     "data": {
      "text/plain": [
       "is_submitter\n",
       "False    22438\n",
       "True      1275\n",
       "Name: count, dtype: int64"
      ]
     },
     "execution_count": 8,
     "metadata": {},
     "output_type": "execute_result"
    }
   ],
   "source": [
    "#count the unique values\n",
    "\n",
    "df['is_submitter'].value_counts()"
   ]
  },
  {
   "cell_type": "code",
   "execution_count": null,
   "metadata": {},
   "outputs": [],
   "source": [
    "#mapping and convert the column to integer\n",
    "\n",
    "df['is_submitter'] = df['is_submitter'].map({True: 1, False: 0})\n",
    "df['is_submitter'] = df['is_submitter'].astype(int)\n"
   ]
  },
  {
   "cell_type": "code",
   "execution_count": 10,
   "metadata": {},
   "outputs": [
    {
     "data": {
      "text/html": [
       "<div>\n",
       "<style scoped>\n",
       "    .dataframe tbody tr th:only-of-type {\n",
       "        vertical-align: middle;\n",
       "    }\n",
       "\n",
       "    .dataframe tbody tr th {\n",
       "        vertical-align: top;\n",
       "    }\n",
       "\n",
       "    .dataframe thead th {\n",
       "        text-align: right;\n",
       "    }\n",
       "</style>\n",
       "<table border=\"1\" class=\"dataframe\">\n",
       "  <thead>\n",
       "    <tr style=\"text-align: right;\">\n",
       "      <th></th>\n",
       "      <th>comment_id</th>\n",
       "      <th>thread_id</th>\n",
       "      <th>parent_id</th>\n",
       "      <th>author</th>\n",
       "      <th>body</th>\n",
       "      <th>is_submitter</th>\n",
       "      <th>score</th>\n",
       "      <th>stickied</th>\n",
       "      <th>created_utc</th>\n",
       "      <th>edited</th>\n",
       "    </tr>\n",
       "  </thead>\n",
       "  <tbody>\n",
       "    <tr>\n",
       "      <th>0</th>\n",
       "      <td>ea890251-f4ae-555a-985e-5c5692cfb707</td>\n",
       "      <td>c091715a-9c0b-5145-b0f3-2cf17475ad87</td>\n",
       "      <td>c091715a-9c0b-5145-b0f3-2cf17475ad87</td>\n",
       "      <td>6d8224c6-85a4-5546-93f8-9d6d1644b78d</td>\n",
       "      <td>Evil looking mf</td>\n",
       "      <td>0</td>\n",
       "      <td>1</td>\n",
       "      <td>False</td>\n",
       "      <td>2024-12-09 23:34:02</td>\n",
       "      <td>1970-01-01 00:00:00</td>\n",
       "    </tr>\n",
       "    <tr>\n",
       "      <th>1</th>\n",
       "      <td>9fa939b9-1678-5801-9fdd-1c2d1d3aac7e</td>\n",
       "      <td>f08c477a-b97c-55d8-85ba-7751f6299f54</td>\n",
       "      <td>9e6603c8-42e7-54c1-a226-f6eca6b20de8</td>\n",
       "      <td>8609ec8b-8a27-57e8-932d-4cbe575d8957</td>\n",
       "      <td>End up at Tokyo Disney like Kim Jong-nam</td>\n",
       "      <td>0</td>\n",
       "      <td>1</td>\n",
       "      <td>False</td>\n",
       "      <td>2024-12-09 23:30:42</td>\n",
       "      <td>1970-01-01 00:00:00</td>\n",
       "    </tr>\n",
       "    <tr>\n",
       "      <th>2</th>\n",
       "      <td>f5496c8d-ba50-5465-8239-7867c8fe3acb</td>\n",
       "      <td>3fc405a9-1ba1-5de5-90cb-497d02c74e49</td>\n",
       "      <td>9bea9a0f-6952-5b20-b3a6-c1db25e9b15c</td>\n",
       "      <td>9ef2092c-fd54-546e-8c2a-ba302b3b6fc5</td>\n",
       "      <td>Spot on. The Danish and Swedish embassies in K...</td>\n",
       "      <td>0</td>\n",
       "      <td>1</td>\n",
       "      <td>False</td>\n",
       "      <td>2024-12-09 23:28:32</td>\n",
       "      <td>1970-01-01 00:00:00</td>\n",
       "    </tr>\n",
       "    <tr>\n",
       "      <th>3</th>\n",
       "      <td>e5d6e647-b4e5-54c5-8170-3e809679c1c9</td>\n",
       "      <td>f08c477a-b97c-55d8-85ba-7751f6299f54</td>\n",
       "      <td>f08c477a-b97c-55d8-85ba-7751f6299f54</td>\n",
       "      <td>6f6228f4-f281-5f1b-a1f6-5e6c6dc7cb66</td>\n",
       "      <td>Banned from leaving??? Not sure if that's nece...</td>\n",
       "      <td>0</td>\n",
       "      <td>1</td>\n",
       "      <td>False</td>\n",
       "      <td>2024-12-09 23:25:35</td>\n",
       "      <td>1970-01-01 00:00:00</td>\n",
       "    </tr>\n",
       "    <tr>\n",
       "      <th>4</th>\n",
       "      <td>6c7aff95-20c7-5d3e-afca-de63e991b374</td>\n",
       "      <td>3fc405a9-1ba1-5de5-90cb-497d02c74e49</td>\n",
       "      <td>02bec291-d008-52e4-848b-223615b56527</td>\n",
       "      <td>9ef2092c-fd54-546e-8c2a-ba302b3b6fc5</td>\n",
       "      <td>Yes, the US embassy in Sweden and Germany look...</td>\n",
       "      <td>0</td>\n",
       "      <td>1</td>\n",
       "      <td>False</td>\n",
       "      <td>2024-12-09 23:24:34</td>\n",
       "      <td>1970-01-01 00:00:00</td>\n",
       "    </tr>\n",
       "  </tbody>\n",
       "</table>\n",
       "</div>"
      ],
      "text/plain": [
       "                             comment_id                             thread_id  \\\n",
       "0  ea890251-f4ae-555a-985e-5c5692cfb707  c091715a-9c0b-5145-b0f3-2cf17475ad87   \n",
       "1  9fa939b9-1678-5801-9fdd-1c2d1d3aac7e  f08c477a-b97c-55d8-85ba-7751f6299f54   \n",
       "2  f5496c8d-ba50-5465-8239-7867c8fe3acb  3fc405a9-1ba1-5de5-90cb-497d02c74e49   \n",
       "3  e5d6e647-b4e5-54c5-8170-3e809679c1c9  f08c477a-b97c-55d8-85ba-7751f6299f54   \n",
       "4  6c7aff95-20c7-5d3e-afca-de63e991b374  3fc405a9-1ba1-5de5-90cb-497d02c74e49   \n",
       "\n",
       "                              parent_id                                author  \\\n",
       "0  c091715a-9c0b-5145-b0f3-2cf17475ad87  6d8224c6-85a4-5546-93f8-9d6d1644b78d   \n",
       "1  9e6603c8-42e7-54c1-a226-f6eca6b20de8  8609ec8b-8a27-57e8-932d-4cbe575d8957   \n",
       "2  9bea9a0f-6952-5b20-b3a6-c1db25e9b15c  9ef2092c-fd54-546e-8c2a-ba302b3b6fc5   \n",
       "3  f08c477a-b97c-55d8-85ba-7751f6299f54  6f6228f4-f281-5f1b-a1f6-5e6c6dc7cb66   \n",
       "4  02bec291-d008-52e4-848b-223615b56527  9ef2092c-fd54-546e-8c2a-ba302b3b6fc5   \n",
       "\n",
       "                                                body  is_submitter  score  \\\n",
       "0                                    Evil looking mf             0      1   \n",
       "1           End up at Tokyo Disney like Kim Jong-nam             0      1   \n",
       "2  Spot on. The Danish and Swedish embassies in K...             0      1   \n",
       "3  Banned from leaving??? Not sure if that's nece...             0      1   \n",
       "4  Yes, the US embassy in Sweden and Germany look...             0      1   \n",
       "\n",
       "   stickied          created_utc               edited  \n",
       "0     False  2024-12-09 23:34:02  1970-01-01 00:00:00  \n",
       "1     False  2024-12-09 23:30:42  1970-01-01 00:00:00  \n",
       "2     False  2024-12-09 23:28:32  1970-01-01 00:00:00  \n",
       "3     False  2024-12-09 23:25:35  1970-01-01 00:00:00  \n",
       "4     False  2024-12-09 23:24:34  1970-01-01 00:00:00  "
      ]
     },
     "execution_count": 10,
     "metadata": {},
     "output_type": "execute_result"
    }
   ],
   "source": [
    "df.head()"
   ]
  },
  {
   "cell_type": "code",
   "execution_count": null,
   "metadata": {},
   "outputs": [
    {
     "data": {
      "text/plain": [
       "stickied\n",
       "False    23702\n",
       "True        11\n",
       "Name: count, dtype: int64"
      ]
     },
     "execution_count": 11,
     "metadata": {},
     "output_type": "execute_result"
    }
   ],
   "source": [
    "#count the unique values\n",
    "\n",
    "df['stickied'].value_counts()"
   ]
  },
  {
   "cell_type": "code",
   "execution_count": null,
   "metadata": {},
   "outputs": [],
   "source": [
    "#mapping and convert the column to integer\n",
    "\n",
    "df['stickied'] = df['stickied'].map({True: 1, False: 0})\n",
    "df['stickied'] = df['stickied'].astype(int)"
   ]
  },
  {
   "cell_type": "code",
   "execution_count": 13,
   "metadata": {},
   "outputs": [
    {
     "data": {
      "text/html": [
       "<div>\n",
       "<style scoped>\n",
       "    .dataframe tbody tr th:only-of-type {\n",
       "        vertical-align: middle;\n",
       "    }\n",
       "\n",
       "    .dataframe tbody tr th {\n",
       "        vertical-align: top;\n",
       "    }\n",
       "\n",
       "    .dataframe thead th {\n",
       "        text-align: right;\n",
       "    }\n",
       "</style>\n",
       "<table border=\"1\" class=\"dataframe\">\n",
       "  <thead>\n",
       "    <tr style=\"text-align: right;\">\n",
       "      <th></th>\n",
       "      <th>comment_id</th>\n",
       "      <th>thread_id</th>\n",
       "      <th>parent_id</th>\n",
       "      <th>author</th>\n",
       "      <th>body</th>\n",
       "      <th>is_submitter</th>\n",
       "      <th>score</th>\n",
       "      <th>stickied</th>\n",
       "      <th>created_utc</th>\n",
       "      <th>edited</th>\n",
       "    </tr>\n",
       "  </thead>\n",
       "  <tbody>\n",
       "    <tr>\n",
       "      <th>0</th>\n",
       "      <td>ea890251-f4ae-555a-985e-5c5692cfb707</td>\n",
       "      <td>c091715a-9c0b-5145-b0f3-2cf17475ad87</td>\n",
       "      <td>c091715a-9c0b-5145-b0f3-2cf17475ad87</td>\n",
       "      <td>6d8224c6-85a4-5546-93f8-9d6d1644b78d</td>\n",
       "      <td>Evil looking mf</td>\n",
       "      <td>0</td>\n",
       "      <td>1</td>\n",
       "      <td>0</td>\n",
       "      <td>2024-12-09 23:34:02</td>\n",
       "      <td>1970-01-01 00:00:00</td>\n",
       "    </tr>\n",
       "    <tr>\n",
       "      <th>1</th>\n",
       "      <td>9fa939b9-1678-5801-9fdd-1c2d1d3aac7e</td>\n",
       "      <td>f08c477a-b97c-55d8-85ba-7751f6299f54</td>\n",
       "      <td>9e6603c8-42e7-54c1-a226-f6eca6b20de8</td>\n",
       "      <td>8609ec8b-8a27-57e8-932d-4cbe575d8957</td>\n",
       "      <td>End up at Tokyo Disney like Kim Jong-nam</td>\n",
       "      <td>0</td>\n",
       "      <td>1</td>\n",
       "      <td>0</td>\n",
       "      <td>2024-12-09 23:30:42</td>\n",
       "      <td>1970-01-01 00:00:00</td>\n",
       "    </tr>\n",
       "    <tr>\n",
       "      <th>2</th>\n",
       "      <td>f5496c8d-ba50-5465-8239-7867c8fe3acb</td>\n",
       "      <td>3fc405a9-1ba1-5de5-90cb-497d02c74e49</td>\n",
       "      <td>9bea9a0f-6952-5b20-b3a6-c1db25e9b15c</td>\n",
       "      <td>9ef2092c-fd54-546e-8c2a-ba302b3b6fc5</td>\n",
       "      <td>Spot on. The Danish and Swedish embassies in K...</td>\n",
       "      <td>0</td>\n",
       "      <td>1</td>\n",
       "      <td>0</td>\n",
       "      <td>2024-12-09 23:28:32</td>\n",
       "      <td>1970-01-01 00:00:00</td>\n",
       "    </tr>\n",
       "    <tr>\n",
       "      <th>3</th>\n",
       "      <td>e5d6e647-b4e5-54c5-8170-3e809679c1c9</td>\n",
       "      <td>f08c477a-b97c-55d8-85ba-7751f6299f54</td>\n",
       "      <td>f08c477a-b97c-55d8-85ba-7751f6299f54</td>\n",
       "      <td>6f6228f4-f281-5f1b-a1f6-5e6c6dc7cb66</td>\n",
       "      <td>Banned from leaving??? Not sure if that's nece...</td>\n",
       "      <td>0</td>\n",
       "      <td>1</td>\n",
       "      <td>0</td>\n",
       "      <td>2024-12-09 23:25:35</td>\n",
       "      <td>1970-01-01 00:00:00</td>\n",
       "    </tr>\n",
       "    <tr>\n",
       "      <th>4</th>\n",
       "      <td>6c7aff95-20c7-5d3e-afca-de63e991b374</td>\n",
       "      <td>3fc405a9-1ba1-5de5-90cb-497d02c74e49</td>\n",
       "      <td>02bec291-d008-52e4-848b-223615b56527</td>\n",
       "      <td>9ef2092c-fd54-546e-8c2a-ba302b3b6fc5</td>\n",
       "      <td>Yes, the US embassy in Sweden and Germany look...</td>\n",
       "      <td>0</td>\n",
       "      <td>1</td>\n",
       "      <td>0</td>\n",
       "      <td>2024-12-09 23:24:34</td>\n",
       "      <td>1970-01-01 00:00:00</td>\n",
       "    </tr>\n",
       "  </tbody>\n",
       "</table>\n",
       "</div>"
      ],
      "text/plain": [
       "                             comment_id                             thread_id  \\\n",
       "0  ea890251-f4ae-555a-985e-5c5692cfb707  c091715a-9c0b-5145-b0f3-2cf17475ad87   \n",
       "1  9fa939b9-1678-5801-9fdd-1c2d1d3aac7e  f08c477a-b97c-55d8-85ba-7751f6299f54   \n",
       "2  f5496c8d-ba50-5465-8239-7867c8fe3acb  3fc405a9-1ba1-5de5-90cb-497d02c74e49   \n",
       "3  e5d6e647-b4e5-54c5-8170-3e809679c1c9  f08c477a-b97c-55d8-85ba-7751f6299f54   \n",
       "4  6c7aff95-20c7-5d3e-afca-de63e991b374  3fc405a9-1ba1-5de5-90cb-497d02c74e49   \n",
       "\n",
       "                              parent_id                                author  \\\n",
       "0  c091715a-9c0b-5145-b0f3-2cf17475ad87  6d8224c6-85a4-5546-93f8-9d6d1644b78d   \n",
       "1  9e6603c8-42e7-54c1-a226-f6eca6b20de8  8609ec8b-8a27-57e8-932d-4cbe575d8957   \n",
       "2  9bea9a0f-6952-5b20-b3a6-c1db25e9b15c  9ef2092c-fd54-546e-8c2a-ba302b3b6fc5   \n",
       "3  f08c477a-b97c-55d8-85ba-7751f6299f54  6f6228f4-f281-5f1b-a1f6-5e6c6dc7cb66   \n",
       "4  02bec291-d008-52e4-848b-223615b56527  9ef2092c-fd54-546e-8c2a-ba302b3b6fc5   \n",
       "\n",
       "                                                body  is_submitter  score  \\\n",
       "0                                    Evil looking mf             0      1   \n",
       "1           End up at Tokyo Disney like Kim Jong-nam             0      1   \n",
       "2  Spot on. The Danish and Swedish embassies in K...             0      1   \n",
       "3  Banned from leaving??? Not sure if that's nece...             0      1   \n",
       "4  Yes, the US embassy in Sweden and Germany look...             0      1   \n",
       "\n",
       "   stickied          created_utc               edited  \n",
       "0         0  2024-12-09 23:34:02  1970-01-01 00:00:00  \n",
       "1         0  2024-12-09 23:30:42  1970-01-01 00:00:00  \n",
       "2         0  2024-12-09 23:28:32  1970-01-01 00:00:00  \n",
       "3         0  2024-12-09 23:25:35  1970-01-01 00:00:00  \n",
       "4         0  2024-12-09 23:24:34  1970-01-01 00:00:00  "
      ]
     },
     "execution_count": 13,
     "metadata": {},
     "output_type": "execute_result"
    }
   ],
   "source": [
    "df.head()"
   ]
  },
  {
   "cell_type": "code",
   "execution_count": 14,
   "metadata": {},
   "outputs": [
    {
     "data": {
      "text/plain": [
       "score\n",
       " 1      6248\n",
       " 2      2879\n",
       " 3      1842\n",
       " 4      1015\n",
       " 0      1007\n",
       "        ... \n",
       " 253       1\n",
       "-127       1\n",
       "-57        1\n",
       " 165       1\n",
       " 539       1\n",
       "Name: count, Length: 409, dtype: int64"
      ]
     },
     "execution_count": 14,
     "metadata": {},
     "output_type": "execute_result"
    }
   ],
   "source": [
    "df['score'].value_counts()"
   ]
  },
  {
   "cell_type": "code",
   "execution_count": 15,
   "metadata": {},
   "outputs": [],
   "source": [
    "categorical_col=df.select_dtypes(include=['object', 'category']).columns"
   ]
  },
  {
   "cell_type": "code",
   "execution_count": 16,
   "metadata": {},
   "outputs": [
    {
     "data": {
      "text/plain": [
       "Index(['comment_id', 'thread_id', 'parent_id', 'author', 'body', 'created_utc',\n",
       "       'edited'],\n",
       "      dtype='object')"
      ]
     },
     "execution_count": 16,
     "metadata": {},
     "output_type": "execute_result"
    }
   ],
   "source": [
    "categorical_col"
   ]
  },
  {
   "cell_type": "code",
   "execution_count": 17,
   "metadata": {},
   "outputs": [],
   "source": [
    "cardinality = df[categorical_col].nunique()"
   ]
  },
  {
   "cell_type": "code",
   "execution_count": 18,
   "metadata": {},
   "outputs": [
    {
     "data": {
      "text/plain": [
       "comment_id     23713\n",
       "thread_id        838\n",
       "parent_id      10581\n",
       "author          8025\n",
       "body           22624\n",
       "created_utc    23455\n",
       "edited          1058\n",
       "dtype: int64"
      ]
     },
     "execution_count": 18,
     "metadata": {},
     "output_type": "execute_result"
    }
   ],
   "source": [
    "cardinality"
   ]
  },
  {
   "cell_type": "code",
   "execution_count": 19,
   "metadata": {},
   "outputs": [],
   "source": [
    "low_cardinality = [col for col in cardinality.index if cardinality[col] <= 5]"
   ]
  },
  {
   "cell_type": "code",
   "execution_count": 20,
   "metadata": {},
   "outputs": [
    {
     "data": {
      "text/plain": [
       "[]"
      ]
     },
     "execution_count": 20,
     "metadata": {},
     "output_type": "execute_result"
    }
   ],
   "source": [
    "low_cardinality"
   ]
  },
  {
   "cell_type": "code",
   "execution_count": 21,
   "metadata": {},
   "outputs": [
    {
     "name": "stdout",
     "output_type": "stream",
     "text": [
      "<class 'pandas.core.frame.DataFrame'>\n",
      "RangeIndex: 23713 entries, 0 to 23712\n",
      "Data columns (total 10 columns):\n",
      " #   Column        Non-Null Count  Dtype \n",
      "---  ------        --------------  ----- \n",
      " 0   comment_id    23713 non-null  object\n",
      " 1   thread_id     23713 non-null  object\n",
      " 2   parent_id     23713 non-null  object\n",
      " 3   author        23713 non-null  object\n",
      " 4   body          23713 non-null  object\n",
      " 5   is_submitter  23713 non-null  int32 \n",
      " 6   score         23713 non-null  int64 \n",
      " 7   stickied      23713 non-null  int32 \n",
      " 8   created_utc   23713 non-null  object\n",
      " 9   edited        23713 non-null  object\n",
      "dtypes: int32(2), int64(1), object(7)\n",
      "memory usage: 1.6+ MB\n"
     ]
    }
   ],
   "source": [
    "df.info()"
   ]
  },
  {
   "cell_type": "code",
   "execution_count": null,
   "metadata": {},
   "outputs": [],
   "source": [
    "#convert the categorical values into numerical labels\n",
    "\n",
    "categorical_col=df.select_dtypes(include=['object','category']).columns\n",
    "LabelEncoder=LabelEncoder\n",
    "for col in categorical_col:\n",
    "    df[col]=LabelEncoder().fit_transform(df[col])"
   ]
  },
  {
   "cell_type": "code",
   "execution_count": 23,
   "metadata": {},
   "outputs": [
    {
     "name": "stdout",
     "output_type": "stream",
     "text": [
      "<class 'pandas.core.frame.DataFrame'>\n",
      "RangeIndex: 23713 entries, 0 to 23712\n",
      "Data columns (total 10 columns):\n",
      " #   Column        Non-Null Count  Dtype\n",
      "---  ------        --------------  -----\n",
      " 0   comment_id    23713 non-null  int32\n",
      " 1   thread_id     23713 non-null  int32\n",
      " 2   parent_id     23713 non-null  int32\n",
      " 3   author        23713 non-null  int32\n",
      " 4   body          23713 non-null  int32\n",
      " 5   is_submitter  23713 non-null  int32\n",
      " 6   score         23713 non-null  int64\n",
      " 7   stickied      23713 non-null  int32\n",
      " 8   created_utc   23713 non-null  int32\n",
      " 9   edited        23713 non-null  int32\n",
      "dtypes: int32(9), int64(1)\n",
      "memory usage: 1019.0 KB\n"
     ]
    }
   ],
   "source": [
    "df.info()"
   ]
  },
  {
   "cell_type": "code",
   "execution_count": null,
   "metadata": {},
   "outputs": [],
   "source": [
    "#convert all columns in the DataFrame to integer type\n",
    "\n",
    "df=df.astype(int)"
   ]
  },
  {
   "cell_type": "code",
   "execution_count": 25,
   "metadata": {},
   "outputs": [
    {
     "name": "stdout",
     "output_type": "stream",
     "text": [
      "<class 'pandas.core.frame.DataFrame'>\n",
      "RangeIndex: 23713 entries, 0 to 23712\n",
      "Data columns (total 10 columns):\n",
      " #   Column        Non-Null Count  Dtype\n",
      "---  ------        --------------  -----\n",
      " 0   comment_id    23713 non-null  int32\n",
      " 1   thread_id     23713 non-null  int32\n",
      " 2   parent_id     23713 non-null  int32\n",
      " 3   author        23713 non-null  int32\n",
      " 4   body          23713 non-null  int32\n",
      " 5   is_submitter  23713 non-null  int32\n",
      " 6   score         23713 non-null  int32\n",
      " 7   stickied      23713 non-null  int32\n",
      " 8   created_utc   23713 non-null  int32\n",
      " 9   edited        23713 non-null  int32\n",
      "dtypes: int32(10)\n",
      "memory usage: 926.4 KB\n"
     ]
    }
   ],
   "source": [
    "df.info()"
   ]
  },
  {
   "cell_type": "code",
   "execution_count": 44,
   "metadata": {},
   "outputs": [],
   "source": [
    "x=df.drop('is_submitter',axis=1)"
   ]
  },
  {
   "cell_type": "code",
   "execution_count": null,
   "metadata": {},
   "outputs": [],
   "source": [
    "y=df['is_submitter']"
   ]
  },
  {
   "cell_type": "code",
   "execution_count": null,
   "metadata": {},
   "outputs": [],
   "source": [
    "#splits the dataset into training and temporary sets\n",
    "\n",
    "x_train,x_temp,y_train,y_temp=train_test_split(x,y,test_size=0.3, random_state=42)"
   ]
  },
  {
   "cell_type": "code",
   "execution_count": null,
   "metadata": {},
   "outputs": [],
   "source": [
    "#splits the dataset into training and temporary sets\n",
    "\n",
    "x_val,x_test,y_val,y_test=train_test_split(x_temp,y_temp,test_size=0.5, random_state=42)"
   ]
  },
  {
   "cell_type": "code",
   "execution_count": null,
   "metadata": {},
   "outputs": [],
   "source": [
    "#scaled the feature datasets\n",
    "\n",
    "scaler = StandardScaler()\n",
    "x_train_scaled = scaler.fit_transform(x_train)\n",
    "x_val_scaled = scaler.transform(x_val)\n",
    "x_test_scaled = scaler.transform(x_test)"
   ]
  },
  {
   "cell_type": "code",
   "execution_count": null,
   "metadata": {},
   "outputs": [
    {
     "data": {
      "text/html": [
       "<style>#sk-container-id-2 {\n",
       "  /* Definition of color scheme common for light and dark mode */\n",
       "  --sklearn-color-text: black;\n",
       "  --sklearn-color-line: gray;\n",
       "  /* Definition of color scheme for unfitted estimators */\n",
       "  --sklearn-color-unfitted-level-0: #fff5e6;\n",
       "  --sklearn-color-unfitted-level-1: #f6e4d2;\n",
       "  --sklearn-color-unfitted-level-2: #ffe0b3;\n",
       "  --sklearn-color-unfitted-level-3: chocolate;\n",
       "  /* Definition of color scheme for fitted estimators */\n",
       "  --sklearn-color-fitted-level-0: #f0f8ff;\n",
       "  --sklearn-color-fitted-level-1: #d4ebff;\n",
       "  --sklearn-color-fitted-level-2: #b3dbfd;\n",
       "  --sklearn-color-fitted-level-3: cornflowerblue;\n",
       "\n",
       "  /* Specific color for light theme */\n",
       "  --sklearn-color-text-on-default-background: var(--sg-text-color, var(--theme-code-foreground, var(--jp-content-font-color1, black)));\n",
       "  --sklearn-color-background: var(--sg-background-color, var(--theme-background, var(--jp-layout-color0, white)));\n",
       "  --sklearn-color-border-box: var(--sg-text-color, var(--theme-code-foreground, var(--jp-content-font-color1, black)));\n",
       "  --sklearn-color-icon: #696969;\n",
       "\n",
       "  @media (prefers-color-scheme: dark) {\n",
       "    /* Redefinition of color scheme for dark theme */\n",
       "    --sklearn-color-text-on-default-background: var(--sg-text-color, var(--theme-code-foreground, var(--jp-content-font-color1, white)));\n",
       "    --sklearn-color-background: var(--sg-background-color, var(--theme-background, var(--jp-layout-color0, #111)));\n",
       "    --sklearn-color-border-box: var(--sg-text-color, var(--theme-code-foreground, var(--jp-content-font-color1, white)));\n",
       "    --sklearn-color-icon: #878787;\n",
       "  }\n",
       "}\n",
       "\n",
       "#sk-container-id-2 {\n",
       "  color: var(--sklearn-color-text);\n",
       "}\n",
       "\n",
       "#sk-container-id-2 pre {\n",
       "  padding: 0;\n",
       "}\n",
       "\n",
       "#sk-container-id-2 input.sk-hidden--visually {\n",
       "  border: 0;\n",
       "  clip: rect(1px 1px 1px 1px);\n",
       "  clip: rect(1px, 1px, 1px, 1px);\n",
       "  height: 1px;\n",
       "  margin: -1px;\n",
       "  overflow: hidden;\n",
       "  padding: 0;\n",
       "  position: absolute;\n",
       "  width: 1px;\n",
       "}\n",
       "\n",
       "#sk-container-id-2 div.sk-dashed-wrapped {\n",
       "  border: 1px dashed var(--sklearn-color-line);\n",
       "  margin: 0 0.4em 0.5em 0.4em;\n",
       "  box-sizing: border-box;\n",
       "  padding-bottom: 0.4em;\n",
       "  background-color: var(--sklearn-color-background);\n",
       "}\n",
       "\n",
       "#sk-container-id-2 div.sk-container {\n",
       "  /* jupyter's `normalize.less` sets `[hidden] { display: none; }`\n",
       "     but bootstrap.min.css set `[hidden] { display: none !important; }`\n",
       "     so we also need the `!important` here to be able to override the\n",
       "     default hidden behavior on the sphinx rendered scikit-learn.org.\n",
       "     See: https://github.com/scikit-learn/scikit-learn/issues/21755 */\n",
       "  display: inline-block !important;\n",
       "  position: relative;\n",
       "}\n",
       "\n",
       "#sk-container-id-2 div.sk-text-repr-fallback {\n",
       "  display: none;\n",
       "}\n",
       "\n",
       "div.sk-parallel-item,\n",
       "div.sk-serial,\n",
       "div.sk-item {\n",
       "  /* draw centered vertical line to link estimators */\n",
       "  background-image: linear-gradient(var(--sklearn-color-text-on-default-background), var(--sklearn-color-text-on-default-background));\n",
       "  background-size: 2px 100%;\n",
       "  background-repeat: no-repeat;\n",
       "  background-position: center center;\n",
       "}\n",
       "\n",
       "/* Parallel-specific style estimator block */\n",
       "\n",
       "#sk-container-id-2 div.sk-parallel-item::after {\n",
       "  content: \"\";\n",
       "  width: 100%;\n",
       "  border-bottom: 2px solid var(--sklearn-color-text-on-default-background);\n",
       "  flex-grow: 1;\n",
       "}\n",
       "\n",
       "#sk-container-id-2 div.sk-parallel {\n",
       "  display: flex;\n",
       "  align-items: stretch;\n",
       "  justify-content: center;\n",
       "  background-color: var(--sklearn-color-background);\n",
       "  position: relative;\n",
       "}\n",
       "\n",
       "#sk-container-id-2 div.sk-parallel-item {\n",
       "  display: flex;\n",
       "  flex-direction: column;\n",
       "}\n",
       "\n",
       "#sk-container-id-2 div.sk-parallel-item:first-child::after {\n",
       "  align-self: flex-end;\n",
       "  width: 50%;\n",
       "}\n",
       "\n",
       "#sk-container-id-2 div.sk-parallel-item:last-child::after {\n",
       "  align-self: flex-start;\n",
       "  width: 50%;\n",
       "}\n",
       "\n",
       "#sk-container-id-2 div.sk-parallel-item:only-child::after {\n",
       "  width: 0;\n",
       "}\n",
       "\n",
       "/* Serial-specific style estimator block */\n",
       "\n",
       "#sk-container-id-2 div.sk-serial {\n",
       "  display: flex;\n",
       "  flex-direction: column;\n",
       "  align-items: center;\n",
       "  background-color: var(--sklearn-color-background);\n",
       "  padding-right: 1em;\n",
       "  padding-left: 1em;\n",
       "}\n",
       "\n",
       "\n",
       "/* Toggleable style: style used for estimator/Pipeline/ColumnTransformer box that is\n",
       "clickable and can be expanded/collapsed.\n",
       "- Pipeline and ColumnTransformer use this feature and define the default style\n",
       "- Estimators will overwrite some part of the style using the `sk-estimator` class\n",
       "*/\n",
       "\n",
       "/* Pipeline and ColumnTransformer style (default) */\n",
       "\n",
       "#sk-container-id-2 div.sk-toggleable {\n",
       "  /* Default theme specific background. It is overwritten whether we have a\n",
       "  specific estimator or a Pipeline/ColumnTransformer */\n",
       "  background-color: var(--sklearn-color-background);\n",
       "}\n",
       "\n",
       "/* Toggleable label */\n",
       "#sk-container-id-2 label.sk-toggleable__label {\n",
       "  cursor: pointer;\n",
       "  display: block;\n",
       "  width: 100%;\n",
       "  margin-bottom: 0;\n",
       "  padding: 0.5em;\n",
       "  box-sizing: border-box;\n",
       "  text-align: center;\n",
       "}\n",
       "\n",
       "#sk-container-id-2 label.sk-toggleable__label-arrow:before {\n",
       "  /* Arrow on the left of the label */\n",
       "  content: \"▸\";\n",
       "  float: left;\n",
       "  margin-right: 0.25em;\n",
       "  color: var(--sklearn-color-icon);\n",
       "}\n",
       "\n",
       "#sk-container-id-2 label.sk-toggleable__label-arrow:hover:before {\n",
       "  color: var(--sklearn-color-text);\n",
       "}\n",
       "\n",
       "/* Toggleable content - dropdown */\n",
       "\n",
       "#sk-container-id-2 div.sk-toggleable__content {\n",
       "  max-height: 0;\n",
       "  max-width: 0;\n",
       "  overflow: hidden;\n",
       "  text-align: left;\n",
       "  /* unfitted */\n",
       "  background-color: var(--sklearn-color-unfitted-level-0);\n",
       "}\n",
       "\n",
       "#sk-container-id-2 div.sk-toggleable__content.fitted {\n",
       "  /* fitted */\n",
       "  background-color: var(--sklearn-color-fitted-level-0);\n",
       "}\n",
       "\n",
       "#sk-container-id-2 div.sk-toggleable__content pre {\n",
       "  margin: 0.2em;\n",
       "  border-radius: 0.25em;\n",
       "  color: var(--sklearn-color-text);\n",
       "  /* unfitted */\n",
       "  background-color: var(--sklearn-color-unfitted-level-0);\n",
       "}\n",
       "\n",
       "#sk-container-id-2 div.sk-toggleable__content.fitted pre {\n",
       "  /* unfitted */\n",
       "  background-color: var(--sklearn-color-fitted-level-0);\n",
       "}\n",
       "\n",
       "#sk-container-id-2 input.sk-toggleable__control:checked~div.sk-toggleable__content {\n",
       "  /* Expand drop-down */\n",
       "  max-height: 200px;\n",
       "  max-width: 100%;\n",
       "  overflow: auto;\n",
       "}\n",
       "\n",
       "#sk-container-id-2 input.sk-toggleable__control:checked~label.sk-toggleable__label-arrow:before {\n",
       "  content: \"▾\";\n",
       "}\n",
       "\n",
       "/* Pipeline/ColumnTransformer-specific style */\n",
       "\n",
       "#sk-container-id-2 div.sk-label input.sk-toggleable__control:checked~label.sk-toggleable__label {\n",
       "  color: var(--sklearn-color-text);\n",
       "  background-color: var(--sklearn-color-unfitted-level-2);\n",
       "}\n",
       "\n",
       "#sk-container-id-2 div.sk-label.fitted input.sk-toggleable__control:checked~label.sk-toggleable__label {\n",
       "  background-color: var(--sklearn-color-fitted-level-2);\n",
       "}\n",
       "\n",
       "/* Estimator-specific style */\n",
       "\n",
       "/* Colorize estimator box */\n",
       "#sk-container-id-2 div.sk-estimator input.sk-toggleable__control:checked~label.sk-toggleable__label {\n",
       "  /* unfitted */\n",
       "  background-color: var(--sklearn-color-unfitted-level-2);\n",
       "}\n",
       "\n",
       "#sk-container-id-2 div.sk-estimator.fitted input.sk-toggleable__control:checked~label.sk-toggleable__label {\n",
       "  /* fitted */\n",
       "  background-color: var(--sklearn-color-fitted-level-2);\n",
       "}\n",
       "\n",
       "#sk-container-id-2 div.sk-label label.sk-toggleable__label,\n",
       "#sk-container-id-2 div.sk-label label {\n",
       "  /* The background is the default theme color */\n",
       "  color: var(--sklearn-color-text-on-default-background);\n",
       "}\n",
       "\n",
       "/* On hover, darken the color of the background */\n",
       "#sk-container-id-2 div.sk-label:hover label.sk-toggleable__label {\n",
       "  color: var(--sklearn-color-text);\n",
       "  background-color: var(--sklearn-color-unfitted-level-2);\n",
       "}\n",
       "\n",
       "/* Label box, darken color on hover, fitted */\n",
       "#sk-container-id-2 div.sk-label.fitted:hover label.sk-toggleable__label.fitted {\n",
       "  color: var(--sklearn-color-text);\n",
       "  background-color: var(--sklearn-color-fitted-level-2);\n",
       "}\n",
       "\n",
       "/* Estimator label */\n",
       "\n",
       "#sk-container-id-2 div.sk-label label {\n",
       "  font-family: monospace;\n",
       "  font-weight: bold;\n",
       "  display: inline-block;\n",
       "  line-height: 1.2em;\n",
       "}\n",
       "\n",
       "#sk-container-id-2 div.sk-label-container {\n",
       "  text-align: center;\n",
       "}\n",
       "\n",
       "/* Estimator-specific */\n",
       "#sk-container-id-2 div.sk-estimator {\n",
       "  font-family: monospace;\n",
       "  border: 1px dotted var(--sklearn-color-border-box);\n",
       "  border-radius: 0.25em;\n",
       "  box-sizing: border-box;\n",
       "  margin-bottom: 0.5em;\n",
       "  /* unfitted */\n",
       "  background-color: var(--sklearn-color-unfitted-level-0);\n",
       "}\n",
       "\n",
       "#sk-container-id-2 div.sk-estimator.fitted {\n",
       "  /* fitted */\n",
       "  background-color: var(--sklearn-color-fitted-level-0);\n",
       "}\n",
       "\n",
       "/* on hover */\n",
       "#sk-container-id-2 div.sk-estimator:hover {\n",
       "  /* unfitted */\n",
       "  background-color: var(--sklearn-color-unfitted-level-2);\n",
       "}\n",
       "\n",
       "#sk-container-id-2 div.sk-estimator.fitted:hover {\n",
       "  /* fitted */\n",
       "  background-color: var(--sklearn-color-fitted-level-2);\n",
       "}\n",
       "\n",
       "/* Specification for estimator info (e.g. \"i\" and \"?\") */\n",
       "\n",
       "/* Common style for \"i\" and \"?\" */\n",
       "\n",
       ".sk-estimator-doc-link,\n",
       "a:link.sk-estimator-doc-link,\n",
       "a:visited.sk-estimator-doc-link {\n",
       "  float: right;\n",
       "  font-size: smaller;\n",
       "  line-height: 1em;\n",
       "  font-family: monospace;\n",
       "  background-color: var(--sklearn-color-background);\n",
       "  border-radius: 1em;\n",
       "  height: 1em;\n",
       "  width: 1em;\n",
       "  text-decoration: none !important;\n",
       "  margin-left: 1ex;\n",
       "  /* unfitted */\n",
       "  border: var(--sklearn-color-unfitted-level-1) 1pt solid;\n",
       "  color: var(--sklearn-color-unfitted-level-1);\n",
       "}\n",
       "\n",
       ".sk-estimator-doc-link.fitted,\n",
       "a:link.sk-estimator-doc-link.fitted,\n",
       "a:visited.sk-estimator-doc-link.fitted {\n",
       "  /* fitted */\n",
       "  border: var(--sklearn-color-fitted-level-1) 1pt solid;\n",
       "  color: var(--sklearn-color-fitted-level-1);\n",
       "}\n",
       "\n",
       "/* On hover */\n",
       "div.sk-estimator:hover .sk-estimator-doc-link:hover,\n",
       ".sk-estimator-doc-link:hover,\n",
       "div.sk-label-container:hover .sk-estimator-doc-link:hover,\n",
       ".sk-estimator-doc-link:hover {\n",
       "  /* unfitted */\n",
       "  background-color: var(--sklearn-color-unfitted-level-3);\n",
       "  color: var(--sklearn-color-background);\n",
       "  text-decoration: none;\n",
       "}\n",
       "\n",
       "div.sk-estimator.fitted:hover .sk-estimator-doc-link.fitted:hover,\n",
       ".sk-estimator-doc-link.fitted:hover,\n",
       "div.sk-label-container:hover .sk-estimator-doc-link.fitted:hover,\n",
       ".sk-estimator-doc-link.fitted:hover {\n",
       "  /* fitted */\n",
       "  background-color: var(--sklearn-color-fitted-level-3);\n",
       "  color: var(--sklearn-color-background);\n",
       "  text-decoration: none;\n",
       "}\n",
       "\n",
       "/* Span, style for the box shown on hovering the info icon */\n",
       ".sk-estimator-doc-link span {\n",
       "  display: none;\n",
       "  z-index: 9999;\n",
       "  position: relative;\n",
       "  font-weight: normal;\n",
       "  right: .2ex;\n",
       "  padding: .5ex;\n",
       "  margin: .5ex;\n",
       "  width: min-content;\n",
       "  min-width: 20ex;\n",
       "  max-width: 50ex;\n",
       "  color: var(--sklearn-color-text);\n",
       "  box-shadow: 2pt 2pt 4pt #999;\n",
       "  /* unfitted */\n",
       "  background: var(--sklearn-color-unfitted-level-0);\n",
       "  border: .5pt solid var(--sklearn-color-unfitted-level-3);\n",
       "}\n",
       "\n",
       ".sk-estimator-doc-link.fitted span {\n",
       "  /* fitted */\n",
       "  background: var(--sklearn-color-fitted-level-0);\n",
       "  border: var(--sklearn-color-fitted-level-3);\n",
       "}\n",
       "\n",
       ".sk-estimator-doc-link:hover span {\n",
       "  display: block;\n",
       "}\n",
       "\n",
       "/* \"?\"-specific style due to the `<a>` HTML tag */\n",
       "\n",
       "#sk-container-id-2 a.estimator_doc_link {\n",
       "  float: right;\n",
       "  font-size: 1rem;\n",
       "  line-height: 1em;\n",
       "  font-family: monospace;\n",
       "  background-color: var(--sklearn-color-background);\n",
       "  border-radius: 1rem;\n",
       "  height: 1rem;\n",
       "  width: 1rem;\n",
       "  text-decoration: none;\n",
       "  /* unfitted */\n",
       "  color: var(--sklearn-color-unfitted-level-1);\n",
       "  border: var(--sklearn-color-unfitted-level-1) 1pt solid;\n",
       "}\n",
       "\n",
       "#sk-container-id-2 a.estimator_doc_link.fitted {\n",
       "  /* fitted */\n",
       "  border: var(--sklearn-color-fitted-level-1) 1pt solid;\n",
       "  color: var(--sklearn-color-fitted-level-1);\n",
       "}\n",
       "\n",
       "/* On hover */\n",
       "#sk-container-id-2 a.estimator_doc_link:hover {\n",
       "  /* unfitted */\n",
       "  background-color: var(--sklearn-color-unfitted-level-3);\n",
       "  color: var(--sklearn-color-background);\n",
       "  text-decoration: none;\n",
       "}\n",
       "\n",
       "#sk-container-id-2 a.estimator_doc_link.fitted:hover {\n",
       "  /* fitted */\n",
       "  background-color: var(--sklearn-color-fitted-level-3);\n",
       "}\n",
       "</style><div id=\"sk-container-id-2\" class=\"sk-top-container\"><div class=\"sk-text-repr-fallback\"><pre>KNeighborsClassifier()</pre><b>In a Jupyter environment, please rerun this cell to show the HTML representation or trust the notebook. <br />On GitHub, the HTML representation is unable to render, please try loading this page with nbviewer.org.</b></div><div class=\"sk-container\" hidden><div class=\"sk-item\"><div class=\"sk-estimator fitted sk-toggleable\"><input class=\"sk-toggleable__control sk-hidden--visually\" id=\"sk-estimator-id-2\" type=\"checkbox\" checked><label for=\"sk-estimator-id-2\" class=\"sk-toggleable__label fitted sk-toggleable__label-arrow fitted\">&nbsp;&nbsp;KNeighborsClassifier<a class=\"sk-estimator-doc-link fitted\" rel=\"noreferrer\" target=\"_blank\" href=\"https://scikit-learn.org/1.4/modules/generated/sklearn.neighbors.KNeighborsClassifier.html\">?<span>Documentation for KNeighborsClassifier</span></a><span class=\"sk-estimator-doc-link fitted\">i<span>Fitted</span></span></label><div class=\"sk-toggleable__content fitted\"><pre>KNeighborsClassifier()</pre></div> </div></div></div></div>"
      ],
      "text/plain": [
       "KNeighborsClassifier()"
      ]
     },
     "execution_count": 50,
     "metadata": {},
     "output_type": "execute_result"
    }
   ],
   "source": [
    "#Model traning\n",
    "\n",
    "knn = KNeighborsClassifier(n_neighbors=5)  \n",
    "knn.fit(x_train, y_train)"
   ]
  },
  {
   "cell_type": "code",
   "execution_count": 51,
   "metadata": {},
   "outputs": [],
   "source": [
    "y_pred = knn.predict(x_test)"
   ]
  },
  {
   "cell_type": "code",
   "execution_count": 52,
   "metadata": {},
   "outputs": [
    {
     "name": "stdout",
     "output_type": "stream",
     "text": [
      "Accuracy: 0.95\n"
     ]
    }
   ],
   "source": [
    "print(f'Accuracy: {accuracy_score(y_test, y_pred):.2f}')"
   ]
  },
  {
   "cell_type": "code",
   "execution_count": null,
   "metadata": {},
   "outputs": [
    {
     "name": "stdout",
     "output_type": "stream",
     "text": [
      "              precision    recall  f1-score   support\n",
      "\n",
      "           0       0.95      1.00      0.97      3385\n",
      "           1       0.20      0.01      0.01       172\n",
      "\n",
      "    accuracy                           0.95      3557\n",
      "   macro avg       0.58      0.50      0.49      3557\n",
      "weighted avg       0.92      0.95      0.93      3557\n",
      "\n"
     ]
    }
   ],
   "source": [
    "#classification report\n",
    "\n",
    "print(classification_report(y_test, y_pred))"
   ]
  },
  {
   "cell_type": "code",
   "execution_count": null,
   "metadata": {},
   "outputs": [
    {
     "name": "stdout",
     "output_type": "stream",
     "text": [
      "[0.94518237 0.93864643 0.94286317 0.94896668 0.9487558 ]\n"
     ]
    }
   ],
   "source": [
    "#KFold cross-validation with 5 splits\n",
    "\n",
    "from sklearn.model_selection import KFold\n",
    "kf=KFold(n_splits=5,shuffle=True, random_state=42)\n",
    "scaler_x=StandardScaler()\n",
    "x_scaled=scaler_x.fit_transform(x)\n",
    "mse_val=cross_val_score(knn,x_scaled,y,cv=kf)\n",
    "print(mse_val)\n"
   ]
  },
  {
   "cell_type": "code",
   "execution_count": 55,
   "metadata": {},
   "outputs": [],
   "source": [
    "# k-fold K=10\n",
    "cv_scores = cross_val_score(knn, x, y, cv=10)  # 10-fold cross-validation"
   ]
  },
  {
   "cell_type": "code",
   "execution_count": 56,
   "metadata": {},
   "outputs": [
    {
     "name": "stdout",
     "output_type": "stream",
     "text": [
      "Cross-validation scores for each fold: [0.94561551 0.94182125 0.94350759 0.94601434 0.94474905 0.94601434\n",
      " 0.94601434 0.94432729 0.93673555 0.91142978]\n",
      "Mean accuracy from cross-validation: 0.94\n",
      "Standard deviation of cross-validation scores: 0.01\n"
     ]
    }
   ],
   "source": [
    "print(f'Cross-validation scores for each fold: {cv_scores}')\n",
    "print(f'Mean accuracy from cross-validation: {cv_scores.mean():.2f}')\n",
    "print(f'Standard deviation of cross-validation scores: {cv_scores.std():.2f}')"
   ]
  },
  {
   "cell_type": "code",
   "execution_count": 57,
   "metadata": {},
   "outputs": [
    {
     "data": {
      "image/png": "[encoded data removed]",
      "text/plain": [
       "<Figure size 640x480 with 2 Axes>"
      ]
     },
     "metadata": {},
     "output_type": "display_data"
    }
   ],
   "source": [
    "# Confusion Matrix\n",
    "cm = confusion_matrix(y_test, y_pred)\n",
    "sns.heatmap(cm, annot=True, fmt='d', cmap='Blues', xticklabels=['is_not_submitter', 'is_submitter'], yticklabels=['is_not_submitter', 'is_submitter'])\n",
    "plt.title('Confusion Matrix')\n",
    "plt.show()"
   ]
  },
  {
   "cell_type": "code",
   "execution_count": 60,
   "metadata": {},
   "outputs": [
    {
     "data": {
      "image/png": "[encoded data removed]",
      "text/plain": [
       "<Figure size 640x480 with 1 Axes>"
      ]
     },
     "metadata": {},
     "output_type": "display_data"
    }
   ],
   "source": [
    "k_values = range(1, 21)\n",
    "accuracy_list = []\n",
    "\n",
    "for k in k_values:\n",
    "    knn = KNeighborsClassifier(n_neighbors=k)\n",
    "    knn.fit(x_train, y_train)\n",
    "    accuracy_list.append(accuracy_score(y_test, knn.predict(x_test)))\n",
    "\n",
    "plt.plot(k_values, accuracy_list, marker='o')\n",
    "plt.title('KNN Accuracy for Different k Values')\n",
    "plt.xlabel('k')\n",
    "plt.ylabel('Accuracy')\n",
    "plt.show()"
   ]
  },
  {
   "cell_type": "code",
   "execution_count": null,
   "metadata": {},
   "outputs": [],
   "source": []
  }
 ],
 "metadata": {
  "kernelspec": {
   "display_name": "base",
   "language": "python",
   "name": "python3"
  },
  "language_info": {
   "codemirror_mode": {
    "name": "ipython",
    "version": 3
   },
   "file_extension": ".py",
   "mimetype": "text/x-python",
   "name": "python",
   "nbconvert_exporter": "python",
   "pygments_lexer": "ipython3",
   "version": "3.12.4"
  }
 },
 "nbformat": 4,
 "nbformat_minor": 2
}
